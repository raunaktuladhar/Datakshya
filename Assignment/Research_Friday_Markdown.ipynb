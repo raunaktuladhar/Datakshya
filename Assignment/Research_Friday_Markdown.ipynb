{
 "cells": [
  {
   "cell_type": "markdown",
   "id": "f3f81179-be13-4b10-8667-59e1cae4f206",
   "metadata": {},
   "source": [
    "# About Me"
   ]
  },
  {
   "cell_type": "markdown",
   "id": "78631f6b-1ed5-4474-85a1-e4a493935dba",
   "metadata": {},
   "source": [
    "## Introduction\n",
    "Hi! I am Raunak Tuladhar. I live in Asan-27, Kathmandu and I am 21 years old. I am currently enrolling in Bachelor program `Bachelors of Science in Computer Science and Information Technology (BSc.CSIT)`. "
   ]
  },
  {
   "cell_type": "markdown",
   "id": "26e4d696-ec75-4ef0-8986-e84789a688d5",
   "metadata": {},
   "source": [
    "![Raunak Tuladhar](..\\Raunak.jpeg)"
   ]
  },
  {
   "cell_type": "markdown",
   "id": "14e12e1c-2cf8-4e70-83c9-7b0d1735920e",
   "metadata": {},
   "source": [
    "### I am also available in these platforms:\n",
    "1. [Facebook](https://www.facebook.com/raunak.tuladhar.3/)\n",
    "2. [Instagram](https://www.instagram.com/raunak_tuladhar13/)\n",
    "3. [Github](https://github.com/raunaktuladhar)"
   ]
  },
  {
   "cell_type": "markdown",
   "id": "9ca1ffa5-904c-434b-9e1c-52010e24f438",
   "metadata": {},
   "source": [
    "### Fun Facts about me:\n",
    "* I am very interactive kind of guy.\n",
    "* I love to solve rubik's cube."
   ]
  },
  {
   "cell_type": "markdown",
   "id": "2c6ad97a-e8ff-4549-a612-ad5bbd528e2e",
   "metadata": {
    "jp-MarkdownHeadingCollapsed": true
   },
   "source": [
    "### Favourite Quote:\n",
    "> I can accept failure but can't accept not trying"
   ]
  },
  {
   "cell_type": "markdown",
   "id": "dca35e78-65f9-4fd1-b580-f0e203ad2d48",
   "metadata": {},
   "source": [
    "### Code Snippet:\n",
    "```python\n",
    "a = 5\n",
    "b = 6\n",
    "print(b**a)\n",
    "```"
   ]
  },
  {
   "cell_type": "markdown",
   "id": "17796ac2-c50b-4bf2-8c15-ed8ffbc7c802",
   "metadata": {},
   "source": [
    "### What I learned about Markdown:\n",
    "1. Markdown is document preparing language.\n",
    "   \n",
    "2. It is a bit similar to HTML.\n",
    "\n",
    "3. It helps us to make our ipynb file much more:\n",
    "   1. Clean and tidy\n",
    "   2. Easy to read and understand"
   ]
  }
 ],
 "metadata": {
  "kernelspec": {
   "display_name": "Python 3 (ipykernel)",
   "language": "python",
   "name": "python3"
  },
  "language_info": {
   "codemirror_mode": {
    "name": "ipython",
    "version": 3
   },
   "file_extension": ".py",
   "mimetype": "text/x-python",
   "name": "python",
   "nbconvert_exporter": "python",
   "pygments_lexer": "ipython3",
   "version": "3.12.7"
  }
 },
 "nbformat": 4,
 "nbformat_minor": 5
}
